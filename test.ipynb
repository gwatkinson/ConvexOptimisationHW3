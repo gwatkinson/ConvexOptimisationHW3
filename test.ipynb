{
 "cells": [
  {
   "cell_type": "code",
   "execution_count": 1,
   "metadata": {},
   "outputs": [],
   "source": [
    "%load_ext autoreload\n",
    "%autoreload 2"
   ]
  },
  {
   "cell_type": "code",
   "execution_count": 2,
   "metadata": {},
   "outputs": [],
   "source": [
    "import numpy as np\n",
    "import matplotlib.pyplot as plt\n",
    "import seaborn as sns\n",
    "from numbers import Number\n",
    "\n",
    "from src.function_helper import FunctionHelper, Quadratic"
   ]
  },
  {
   "cell_type": "code",
   "execution_count": 3,
   "metadata": {},
   "outputs": [],
   "source": [
    "test_func = FunctionHelper(\n",
    "    f = lambda x: 3 * x**2 + 2 * x + 1,\n",
    "    g = lambda x: 6 * x + 2,\n",
    "    h = lambda x: np.array([6])\n",
    ")\n",
    "\n",
    "test_func_2 = FunctionHelper(\n",
    "    f = lambda x: x + 6,\n",
    "    g = lambda x: np.array([1]),\n",
    "    h = lambda x: np.array([0])\n",
    ")\n",
    "\n",
    "test_func_3 = test_func + test_func_2\n",
    "test_func_4 = test_func * test_func_2\n",
    "\n",
    "test_func_5 = FunctionHelper(\n",
    "    f = lambda x: 3 * x**3 + 20 * x**2 + 13 * x + 6,\n",
    "    g = lambda x: 9 * x**2 + 40 * x + 13,\n",
    "    h = lambda x: 18 * x + 40\n",
    ")\n",
    "\n",
    "test_func_6 = 3 * test_func\n",
    "test_func_7 = test_func + 3"
   ]
  },
  {
   "cell_type": "code",
   "execution_count": 4,
   "metadata": {},
   "outputs": [
    {
     "data": {
      "text/plain": [
       "(array([17]),\n",
       " array([8]),\n",
       " array([25]),\n",
       " array([136]),\n",
       " array([136]),\n",
       " array([136]))"
      ]
     },
     "execution_count": 4,
     "metadata": {},
     "output_type": "execute_result"
    }
   ],
   "source": [
    "x = np.array([2])\n",
    "test_func(x), test_func_2(x), test_func_3(x), test_func_4(x), test_func_5(x), \\\n",
    "    test_func(x) * test_func_2(x)"
   ]
  },
  {
   "cell_type": "code",
   "execution_count": 42,
   "metadata": {},
   "outputs": [
    {
     "data": {
      "text/plain": [
       "(array([14]), array([1]), array([15]), array([129]), array([129]))"
      ]
     },
     "execution_count": 42,
     "metadata": {},
     "output_type": "execute_result"
    }
   ],
   "source": [
    "x = np.array([2])\n",
    "test_func.g(x), test_func_2.g(x), test_func_3.g(x), test_func_4.g(x), test_func_5.g(x)"
   ]
  },
  {
   "cell_type": "code",
   "execution_count": 43,
   "metadata": {},
   "outputs": [
    {
     "data": {
      "text/plain": [
       "(array([6]), array([0]), array([6]), array([76]), array([76]))"
      ]
     },
     "execution_count": 43,
     "metadata": {},
     "output_type": "execute_result"
    }
   ],
   "source": [
    "x = np.array([2])\n",
    "test_func.h(x), test_func_2.h(x), test_func_3.h(x), test_func_4.h(x), test_func_5.h(x)"
   ]
  },
  {
   "cell_type": "code",
   "execution_count": 12,
   "metadata": {},
   "outputs": [],
   "source": [
    "Q = np.array([[1, 2], [2, 4]])\n",
    "p = np.array([1, -1])\n",
    "\n",
    "test_func = Quadratic(Q=Q, p=p)\n",
    "\n",
    "test_func_2 = test_func + 10\n",
    "test_func_3 = test_func * 2"
   ]
  },
  {
   "cell_type": "code",
   "execution_count": 13,
   "metadata": {},
   "outputs": [
    {
     "data": {
      "text/plain": [
       "(17, 27, 34)"
      ]
     },
     "execution_count": 13,
     "metadata": {},
     "output_type": "execute_result"
    }
   ],
   "source": [
    "x = np.array([2, 1])\n",
    "test_func(x), test_func_2(x), test_func_3(x)"
   ]
  },
  {
   "cell_type": "code",
   "execution_count": 14,
   "metadata": {},
   "outputs": [
    {
     "data": {
      "text/plain": [
       "(array([ 9, 15]), array([ 9, 15]), array([18, 30]))"
      ]
     },
     "execution_count": 14,
     "metadata": {},
     "output_type": "execute_result"
    }
   ],
   "source": [
    "x = np.array([2, 1])\n",
    "test_func.g(x), test_func_2.g(x), test_func_3.g(x)"
   ]
  },
  {
   "cell_type": "code",
   "execution_count": 15,
   "metadata": {},
   "outputs": [
    {
     "data": {
      "text/plain": [
       "(array([[2, 4],\n",
       "        [4, 8]]),\n",
       " array([[2, 4],\n",
       "        [4, 8]]),\n",
       " array([[ 4,  8],\n",
       "        [ 8, 16]]))"
      ]
     },
     "execution_count": 15,
     "metadata": {},
     "output_type": "execute_result"
    }
   ],
   "source": [
    "x = np.array([2, 1])\n",
    "test_func.h(x), test_func_2.h(x), test_func_3.h(x)"
   ]
  },
  {
   "cell_type": "code",
   "execution_count": 20,
   "metadata": {},
   "outputs": [],
   "source": [
    "x = np.array([[1, 2], [1, 2], [1, 2]])\n",
    "y = np.array([1, 2, 3])\n",
    "res = x * np.transpose(np.array([y,]*2))\n"
   ]
  },
  {
   "cell_type": "code",
   "execution_count": 23,
   "metadata": {},
   "outputs": [
    {
     "data": {
      "text/plain": [
       "[array([1, 2, 3]), array([1, 2, 3])]"
      ]
     },
     "execution_count": 23,
     "metadata": {},
     "output_type": "execute_result"
    }
   ],
   "source": [
    "[y,]*2"
   ]
  },
  {
   "cell_type": "code",
   "execution_count": 39,
   "metadata": {},
   "outputs": [],
   "source": [
    "t_range = (-11, 10)\n",
    "x0 = np.array([0, 0]).reshape(-1, 1)\n",
    "direction = np.array([1, 1]).reshape(-1, 1)"
   ]
  },
  {
   "cell_type": "code",
   "execution_count": 52,
   "metadata": {},
   "outputs": [],
   "source": [
    "tmp = ([t_range[0]]* x0.shape[0], [t_range[1]] * x0.shape[0])\n",
    "ts = np.linspace(*tmp, 1000).T"
   ]
  },
  {
   "cell_type": "code",
   "execution_count": 56,
   "metadata": {},
   "outputs": [],
   "source": [
    "res = x0 + ts * direction"
   ]
  },
  {
   "cell_type": "code",
   "execution_count": 70,
   "metadata": {},
   "outputs": [],
   "source": [
    "t_plot = np.linspace(*t_range, 1000)"
   ]
  },
  {
   "cell_type": "code",
   "execution_count": 85,
   "metadata": {},
   "outputs": [
    {
     "data": {
      "text/plain": [
       "(2, 1000)"
      ]
     },
     "execution_count": 85,
     "metadata": {},
     "output_type": "execute_result"
    }
   ],
   "source": [
    "res.shape"
   ]
  },
  {
   "cell_type": "code",
   "execution_count": 92,
   "metadata": {},
   "outputs": [
    {
     "data": {
      "text/plain": [
       "(1000,)"
      ]
     },
     "execution_count": 92,
     "metadata": {},
     "output_type": "execute_result"
    }
   ],
   "source": [
    "np.apply_along_axis(test_func, 0, res)"
   ]
  },
  {
   "cell_type": "code",
   "execution_count": 82,
   "metadata": {},
   "outputs": [
    {
     "data": {
      "text/plain": [
       "array([[-11.        , -10.97897898, -10.95795796, ...,   9.95795796,\n",
       "          9.97897898,  10.        ],\n",
       "       [-11.        , -10.97897898, -10.95795796, ...,   9.95795796,\n",
       "          9.97897898,  10.        ],\n",
       "       [-11.        , -10.97897898, -10.95795796, ...,   9.95795796,\n",
       "          9.97897898,  10.        ]])"
      ]
     },
     "execution_count": 82,
     "metadata": {},
     "output_type": "execute_result"
    }
   ],
   "source": [
    "np.repeat(t_plot.reshape(-1, 1), 3, axis=1).T"
   ]
  },
  {
   "cell_type": "code",
   "execution_count": 96,
   "metadata": {},
   "outputs": [
    {
     "data": {
      "image/png": "[encoded data removed]",
      "text/plain": [
       "<Figure size 640x480 with 1 Axes>"
      ]
     },
     "metadata": {},
     "output_type": "display_data"
    }
   ],
   "source": [
    "fig, ax = plt.subplots()\n",
    "t_range = (-11, 10)\n",
    "x0 = np.array([0, 0])\n",
    "direction = np.array([1, 2])\n",
    "\n",
    "test_func.plot_line(x0, direction, t_range, ax=ax)\n",
    "test_func_2.plot_line(x0, direction, t_range, ax=ax)\n",
    "test_func_3.plot_line(x0, direction, t_range, ax=ax)"
   ]
  },
  {
   "cell_type": "code",
   "execution_count": 54,
   "metadata": {},
   "outputs": [
    {
     "data": {
      "text/plain": [
       "(1000,)"
      ]
     },
     "execution_count": 54,
     "metadata": {},
     "output_type": "execute_result"
    }
   ],
   "source": [
    "y.shape"
   ]
  }
 ],
 "metadata": {
  "kernelspec": {
   "display_name": "Python 3.10.8 ('oc')",
   "language": "python",
   "name": "python3"
  },
  "language_info": {
   "codemirror_mode": {
    "name": "ipython",
    "version": 3
   },
   "file_extension": ".py",
   "mimetype": "text/x-python",
   "name": "python",
   "nbconvert_exporter": "python",
   "pygments_lexer": "ipython3",
   "version": "3.10.8"
  },
  "orig_nbformat": 4,
  "vscode": {
   "interpreter": {
    "hash": "d5024d70390308f4a14e385530250ac7e5b7daada1f8b6c9bf590dc6da0331d8"
   }
  }
 },
 "nbformat": 4,
 "nbformat_minor": 2
}
